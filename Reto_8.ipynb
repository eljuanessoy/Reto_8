{
  "nbformat": 4,
  "nbformat_minor": 0,
  "metadata": {
    "colab": {
      "provenance": [],
      "authorship_tag": "ABX9TyPH6v9VnTHdcpuFMcLIeR+/",
      "include_colab_link": true
    },
    "kernelspec": {
      "name": "python3",
      "display_name": "Python 3"
    },
    "language_info": {
      "name": "python"
    }
  },
  "cells": [
    {
      "cell_type": "markdown",
      "metadata": {
        "id": "view-in-github",
        "colab_type": "text"
      },
      "source": [
        "<a href=\"https://colab.research.google.com/github/eljuanessoy/Reto_8/blob/main/Reto_8.ipynb\" target=\"_parent\"><img src=\"https://colab.research.google.com/assets/colab-badge.svg\" alt=\"Open In Colab\"/></a>"
      ]
    },
    {
      "cell_type": "code",
      "execution_count": null,
      "metadata": {
        "id": "Ya1NeTnAnikr"
      },
      "outputs": [],
      "source": [
        "#Imprimir un listado con los números del 1 al 100 cada uno con su respectivo cuadrado\n",
        "for num in range(1, 101):\n",
        "    print(num, num**2, sep = \", \")"
      ]
    },
    {
      "cell_type": "code",
      "source": [
        "#Imprimir un listado con los números impares desde 1 hasta 999 y seguidamente otro listado con los números pares desde 2 hasta 1000\n",
        "for z in range(1,1000,2):\n",
        "  print(z)\n",
        "for z in range(1,1001):\n",
        "  if z%2 == 0:\n",
        "    print(z)"
      ],
      "metadata": {
        "id": "dHipzkrZoBUo"
      },
      "execution_count": null,
      "outputs": []
    },
    {
      "cell_type": "code",
      "source": [
        "#Imprimir los números pares en forma descendente hasta 2 que son menores o iguales a un número natural n ≥ 2 dado\n",
        "x = int(input(\"Ingrese un numero: \"))\n",
        "for x in range(x,1,-1):\n",
        "  if x%2 == 0:\n",
        "    print(x)"
      ],
      "metadata": {
        "id": "gktd8OcKqujJ"
      },
      "execution_count": null,
      "outputs": []
    },
    {
      "cell_type": "code",
      "source": [
        "#Imprimir los números de 1 hasta un número natural n dado, cada uno con su respectivo factorial\n",
        "x = int(input(\"Ingrese un numero: \"))\n",
        "\n",
        "def fact(n):\n",
        "  if n<0:\n",
        "    return \"ERROR\"\n",
        "  if n==0 or n==1:\n",
        "    return 1\n",
        "  for i in range(1,n):\n",
        "    n=n*i\n",
        "  return n\n",
        "\n",
        "for x in range(1,x+1):\n",
        "  print(f\"{x}!= {fact(x)}\")"
      ],
      "metadata": {
        "id": "LrScTwOSxYlD"
      },
      "execution_count": null,
      "outputs": []
    },
    {
      "cell_type": "code",
      "source": [
        "#Calcular el valor de 2 elevado a la potencia n usando ciclos for\n",
        "n = int(input(\"Ingrese un numero: \"))\n",
        "potencia : int = 1\n",
        "for i in range(1, n+1):\n",
        "  potencia *= 2\n",
        "print(potencia)"
      ],
      "metadata": {
        "id": "H08OHHfeuRZu"
      },
      "execution_count": null,
      "outputs": []
    },
    {
      "cell_type": "code",
      "source": [
        "#Leer un número natural n, leer otro dato de tipo real x y calcular x^n usando ciclos for\n",
        "n = int(input(\"Ingrese un numero natural: \"))\n",
        "x = float(input(\"Ingrese un numero real: \"))\n",
        "potencia : int = 1\n",
        "for i in range(1,n+1):\n",
        "  potencia = x**n\n",
        "print(potencia)"
      ],
      "metadata": {
        "id": "UkdxPxhIj08J"
      },
      "execution_count": null,
      "outputs": []
    },
    {
      "cell_type": "code",
      "source": [
        "#Otro posible codigo de \"#Leer un número natural n, leer otro dato de tipo real x y calcular x^n usando ciclos for\" podria ser:\n",
        "n = int(input(\"Ingrese un numero natural: \"))\n",
        "x = float(input(\"Ingrese un numero real: \"))\n",
        "\n",
        "def Potencia(n:float, x:int):\n",
        "  for i in range(1):\n",
        "    ResultadoPotencia = x**n\n",
        "    print(f\"{x} elevado a la {n} es igual a {ResultadoPotencia}\")\n",
        "\n",
        "Potencia(n,x)"
      ],
      "metadata": {
        "id": "Ymj1udYp41RM"
      },
      "execution_count": null,
      "outputs": []
    },
    {
      "cell_type": "code",
      "source": [
        "#Diseñe un programa que muestre las tablas de multiplicar del 1 al 9\n",
        "def TabladeMultiplicar(n:int):\n",
        "  print(\"Tabla de Multiplicar de \" +str(n))\n",
        "  for i in range(1,11):\n",
        "    ResultadoTabladeMultiplicar = n*i\n",
        "    print(f\"{n}x{i}={ResultadoTabladeMultiplicar}\")\n",
        "  print()\n",
        "\n",
        "for n in range(1, 11):\n",
        "  TabladeMultiplicar(n)"
      ],
      "metadata": {
        "id": "xBIuBvh2vogu"
      },
      "execution_count": null,
      "outputs": []
    }
  ]
}