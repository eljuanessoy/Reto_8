{
  "nbformat": 4,
  "nbformat_minor": 0,
  "metadata": {
    "colab": {
      "provenance": [],
      "authorship_tag": "ABX9TyOGUO7tvW0xOE/V0/mFkuQK",
      "include_colab_link": true
    },
    "kernelspec": {
      "name": "python3",
      "display_name": "Python 3"
    },
    "language_info": {
      "name": "python"
    }
  },
  "cells": [
    {
      "cell_type": "markdown",
      "metadata": {
        "id": "view-in-github",
        "colab_type": "text"
      },
      "source": [
        "<a href=\"https://colab.research.google.com/github/eljuanessoy/Reto_8/blob/main/Reto_8.ipynb\" target=\"_parent\"><img src=\"https://colab.research.google.com/assets/colab-badge.svg\" alt=\"Open In Colab\"/></a>"
      ]
    },
    {
      "cell_type": "code",
      "execution_count": null,
      "metadata": {
        "id": "Ya1NeTnAnikr"
      },
      "outputs": [],
      "source": [
        "#Imprimir un listado con los números del 1 al 100 cada uno con su respectivo cuadrado\n",
        "for num in range(1, 101):\n",
        "    print(num, num**2, sep = \", \")"
      ]
    },
    {
      "cell_type": "code",
      "source": [
        "#Imprimir un listado con los números impares desde 1 hasta 999 y seguidamente otro listado con los números pares desde 2 hasta 1000\n",
        "for z in range(1,1000,2):\n",
        "  print(z)\n",
        "for z in range(1,1001):\n",
        "  if z%2 == 0:\n",
        "    print(z)"
      ],
      "metadata": {
        "id": "dHipzkrZoBUo"
      },
      "execution_count": null,
      "outputs": []
    },
    {
      "cell_type": "code",
      "source": [
        "#Imprimir los números pares en forma descendente hasta 2 que son menores o iguales a un número natural n ≥ 2 dado\n",
        "x = int(input(\"Ingrese un numero: \"))\n",
        "for x in range(x,1,-1):\n",
        "  if x%2 == 0:\n",
        "    print(x)"
      ],
      "metadata": {
        "id": "gktd8OcKqujJ"
      },
      "execution_count": null,
      "outputs": []
    },
    {
      "cell_type": "code",
      "source": [
        "#Imprimir los números de 1 hasta un número natural n dado, cada uno con su respectivo factorial\n",
        "x = int(input(\"Ingrese un numero: \"))\n",
        "def fact(n):\n",
        "  if n<0:\n",
        "    return \"ERROR\"\n",
        "  if n==0 or n==1:\n",
        "    return 1\n",
        "  for i in range(1,n):\n",
        "    n=n*i\n",
        "  return n\n",
        "for x in range(1,x+1):\n",
        "  print(x, fact(x), sep = \", \")"
      ],
      "metadata": {
        "id": "LrScTwOSxYlD"
      },
      "execution_count": null,
      "outputs": []
    },
    {
      "cell_type": "code",
      "source": [
        "#Calcular el valor de 2 elevado a la potencia n usando ciclos for\n",
        "n = int(input(\"Ingrese un numero: \"))\n",
        "numeros = [n]\n",
        "for n in numeros:\n",
        "  print(2**n)"
      ],
      "metadata": {
        "id": "H08OHHfeuRZu"
      },
      "execution_count": null,
      "outputs": []
    },
    {
      "cell_type": "code",
      "source": [
        "#Leer un número natural n, leer otro dato de tipo real x y calcular x^n usando ciclos for\n",
        "n = int(input(\"Ingrese un numero entero: \"))\n",
        "x = float(input(\"Ingrese un numero real: \"))\n",
        "real = [x]\n",
        "for x in real:\n",
        "  if n>0:\n",
        "    print(x**n)"
      ],
      "metadata": {
        "id": "IlVyuQ3nvoKq"
      },
      "execution_count": null,
      "outputs": []
    },
    {
      "cell_type": "code",
      "source": [
        "#Diseñe un programa que muestre las tablas de multiplicar del 1 al 9\n",
        "for x in range(1,10):\n",
        "  print(1, x, 1*x,sep = \", \")\n",
        "print(\"---------\")\n",
        "for x in range(1,10):\n",
        "  print(2, x, 2*x,sep = \", \")\n",
        "print(\"---------\")\n",
        "for x in range(1,10):\n",
        "  print(3, x, 3*x,sep = \", \")\n",
        "print(\"---------\")\n",
        "for x in range(1,10):\n",
        "  print(4, x, 4*x,sep = \", \")\n",
        "print(\"---------\")\n",
        "for x in range(1,10):\n",
        "  print(5, x, 5*x,sep = \", \")\n",
        "print(\"---------\")\n",
        "for x in range(1,10):\n",
        "  print(6, x, 6*x,sep = \", \")\n",
        "print(\"---------\")\n",
        "for x in range(1,10):\n",
        "  print(7, x, 7*x,sep = \", \")\n",
        "print(\"---------\")\n",
        "for x in range(1,10):\n",
        "  print(8, x, 8*x,sep = \", \")\n",
        "print(\"---------\")\n",
        "for x in range(1,10):\n",
        "  print(9, x, 9*x,sep = \", \")"
      ],
      "metadata": {
        "id": "xBIuBvh2vogu"
      },
      "execution_count": null,
      "outputs": []
    }
  ]
}